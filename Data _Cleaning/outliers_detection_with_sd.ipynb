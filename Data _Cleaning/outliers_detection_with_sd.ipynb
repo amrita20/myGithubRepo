{
 "cells": [
  {
   "cell_type": "code",
   "execution_count": 1,
   "metadata": {},
   "outputs": [],
   "source": [
    "import numpy as np\n",
    "import pandas as pd\n",
    "import seaborn as sns"
   ]
  },
  {
   "cell_type": "code",
   "execution_count": 8,
   "metadata": {},
   "outputs": [
    {
     "name": "stdout",
     "output_type": "stream",
     "text": [
      "[39, 92, 59, 28, 57, 82, 14, 76, 54, 77, 74, 14, 74, 39, 100, 37, 35, 11, 75, 31, 87, 44, 59, 57, 62, 20, 59, 81, 25, 84, 18, 55, 58, 15, 27, 77, 23, 72, 74, 74, 67, 50, 95, 99, 63, 79, 55, 38, 68, 73, 98, 93, 35, 91, 68, 17, 78, 11, 19, 97, 62, 23, 12, 54, 62, 68, 64, 18, 53, 81, 41, 39, 23, 27, 28, 27, 85, 55, 31, 83, 45, 15, 94, 37, 40, 21, 43, 93, 82, 86, 47, 41, 38, 50, 33, 84, 52, 35, 59, 18, 57, 62, 37, 67, 49, 12, 76, 48, 86, 72, 89, 40, 44, 82, 60, 43, 76, 36, 56, 12, 72, 56, 14, 40, 63, 76, 11, 67, 66, 55, 16, 30, 50, 80, 24, 89, 80, 52, 43, 62, 55, 58, 35, 19, 98, 96, 54, 40, 64, 53, 63, 34, 57, 35, 16, 98, 78, 98, 20, 75, 76, 79, 32, 36, 12, 22, 42, 32, 81, 90, 49, 61, 74, 64, 67, 98, 74, 42, 79, 49, 60, 53, 21, 79, 26, 21, 16, 64, 73, 74, 87, 47, 39, 31, 57, 61, 54, 17, 49, 12]\n"
     ]
    }
   ],
   "source": [
    "import random\n",
    "score=[]\n",
    "for i in range(200):\n",
    "    score.append((random.randint(10,100)))\n",
    "print(score)\n",
    "    "
   ]
  },
  {
   "cell_type": "code",
   "execution_count": 9,
   "metadata": {},
   "outputs": [
    {
     "name": "stdout",
     "output_type": "stream",
     "text": [
      "     score\n",
      "0       39\n",
      "1       92\n",
      "2       59\n",
      "3       28\n",
      "4       57\n",
      "..     ...\n",
      "195     61\n",
      "196     54\n",
      "197     17\n",
      "198     49\n",
      "199     12\n",
      "\n",
      "[200 rows x 1 columns]\n"
     ]
    }
   ],
   "source": [
    "df=pd.DataFrame(score,columns=['score'])\n",
    "print(df)"
   ]
  },
  {
   "cell_type": "code",
   "execution_count": 12,
   "metadata": {},
   "outputs": [
    {
     "name": "stdout",
     "output_type": "stream",
     "text": [
      "score    53.89\n",
      "dtype: float64\n"
     ]
    }
   ],
   "source": [
    "mean=df.mean()\n",
    "print(mean)"
   ]
  },
  {
   "cell_type": "code",
   "execution_count": 13,
   "metadata": {},
   "outputs": [
    {
     "name": "stdout",
     "output_type": "stream",
     "text": [
      "score    24.708103\n",
      "dtype: float64\n"
     ]
    }
   ],
   "source": [
    "sd=df.std()\n",
    "print(sd)"
   ]
  },
  {
   "cell_type": "code",
   "execution_count": 15,
   "metadata": {},
   "outputs": [
    {
     "name": "stdout",
     "output_type": "stream",
     "text": [
      "score    29.181897\n",
      "dtype: float64\n",
      "score    78.598103\n",
      "dtype: float64\n"
     ]
    }
   ],
   "source": [
    "lower_limit=mean-sd\n",
    "upper_limit=mean+sd\n",
    "print(lower_limit)\n",
    "print(upper_limit)"
   ]
  },
  {
   "cell_type": "code",
   "execution_count": 20,
   "metadata": {},
   "outputs": [
    {
     "data": {
      "text/html": [
       "<div>\n",
       "<style scoped>\n",
       "    .dataframe tbody tr th:only-of-type {\n",
       "        vertical-align: middle;\n",
       "    }\n",
       "\n",
       "    .dataframe tbody tr th {\n",
       "        vertical-align: top;\n",
       "    }\n",
       "\n",
       "    .dataframe thead th {\n",
       "        text-align: right;\n",
       "    }\n",
       "</style>\n",
       "<table border=\"1\" class=\"dataframe\">\n",
       "  <thead>\n",
       "    <tr style=\"text-align: right;\">\n",
       "      <th></th>\n",
       "      <th>score</th>\n",
       "    </tr>\n",
       "  </thead>\n",
       "  <tbody>\n",
       "    <tr>\n",
       "      <th>0</th>\n",
       "      <td>39.0</td>\n",
       "    </tr>\n",
       "    <tr>\n",
       "      <th>2</th>\n",
       "      <td>59.0</td>\n",
       "    </tr>\n",
       "    <tr>\n",
       "      <th>4</th>\n",
       "      <td>57.0</td>\n",
       "    </tr>\n",
       "    <tr>\n",
       "      <th>7</th>\n",
       "      <td>76.0</td>\n",
       "    </tr>\n",
       "    <tr>\n",
       "      <th>8</th>\n",
       "      <td>54.0</td>\n",
       "    </tr>\n",
       "    <tr>\n",
       "      <th>...</th>\n",
       "      <td>...</td>\n",
       "    </tr>\n",
       "    <tr>\n",
       "      <th>193</th>\n",
       "      <td>31.0</td>\n",
       "    </tr>\n",
       "    <tr>\n",
       "      <th>194</th>\n",
       "      <td>57.0</td>\n",
       "    </tr>\n",
       "    <tr>\n",
       "      <th>195</th>\n",
       "      <td>61.0</td>\n",
       "    </tr>\n",
       "    <tr>\n",
       "      <th>196</th>\n",
       "      <td>54.0</td>\n",
       "    </tr>\n",
       "    <tr>\n",
       "      <th>198</th>\n",
       "      <td>49.0</td>\n",
       "    </tr>\n",
       "  </tbody>\n",
       "</table>\n",
       "<p>122 rows × 1 columns</p>\n",
       "</div>"
      ],
      "text/plain": [
       "     score\n",
       "0     39.0\n",
       "2     59.0\n",
       "4     57.0\n",
       "7     76.0\n",
       "8     54.0\n",
       "..     ...\n",
       "193   31.0\n",
       "194   57.0\n",
       "195   61.0\n",
       "196   54.0\n",
       "198   49.0\n",
       "\n",
       "[122 rows x 1 columns]"
      ]
     },
     "execution_count": 20,
     "metadata": {},
     "output_type": "execute_result"
    }
   ],
   "source": [
    "# New dataframe after deleting outliers\n",
    "df_new=df[(df>lower_limit)&(df<upper_limit)]\n",
    "df_new.dropna(inplace=True)\n",
    "df_new"
   ]
  }
 ],
 "metadata": {
  "kernelspec": {
   "display_name": "BuildMyProject",
   "language": "python",
   "name": "python3"
  },
  "language_info": {
   "codemirror_mode": {
    "name": "ipython",
    "version": 3
   },
   "file_extension": ".py",
   "mimetype": "text/x-python",
   "name": "python",
   "nbconvert_exporter": "python",
   "pygments_lexer": "ipython3",
   "version": "3.8.12"
  },
  "orig_nbformat": 4,
  "vscode": {
   "interpreter": {
    "hash": "d2de5900e958e5672eae82a6425654e10c032831b921038a3399734ab9824910"
   }
  }
 },
 "nbformat": 4,
 "nbformat_minor": 2
}
